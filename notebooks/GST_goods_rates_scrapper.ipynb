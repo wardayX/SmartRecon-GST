{
  "nbformat": 4,
  "nbformat_minor": 0,
  "metadata": {
    "colab": {
      "provenance": [],
      "authorship_tag": "ABX9TyMKr/7tcO6ehBLDljjCA3zP"
    },
    "kernelspec": {
      "name": "python3",
      "display_name": "Python 3"
    },
    "language_info": {
      "name": "python"
    }
  },
  "cells": [
    {
      "cell_type": "markdown",
      "source": [
        "# CBIC GST Goods Rates Scraper\n",
        "This notebook scrapes the CGST/SGST/UTGST rates for goods from the official [CBIC GST website](https://cbic-gst.gov.in/gst-goods-services-rates.html) and saves them to a clean CSV file.\n",
        "\n",
        "This was done with the help python libraries: beautifulsoup and pandas"
      ],
      "metadata": {
        "id": "I8fkVSPMUlol"
      }
    },
    {
      "cell_type": "markdown",
      "source": [
        "# Install dependencies"
      ],
      "metadata": {
        "id": "v_mqEnDrUxG4"
      }
    },
    {
      "cell_type": "code",
      "execution_count": 1,
      "metadata": {
        "colab": {
          "base_uri": "https://localhost:8080/"
        },
        "id": "MoXAZ70KT_wD",
        "outputId": "13f5c9cf-bdec-4951-e5a5-e752255e1840"
      },
      "outputs": [
        {
          "output_type": "stream",
          "name": "stdout",
          "text": [
            "Requirement already satisfied: requests in /usr/local/lib/python3.11/dist-packages (2.32.3)\n",
            "Requirement already satisfied: beautifulsoup4 in /usr/local/lib/python3.11/dist-packages (4.13.4)\n",
            "Requirement already satisfied: pandas in /usr/local/lib/python3.11/dist-packages (2.2.2)\n",
            "Requirement already satisfied: charset-normalizer<4,>=2 in /usr/local/lib/python3.11/dist-packages (from requests) (3.4.2)\n",
            "Requirement already satisfied: idna<4,>=2.5 in /usr/local/lib/python3.11/dist-packages (from requests) (3.10)\n",
            "Requirement already satisfied: urllib3<3,>=1.21.1 in /usr/local/lib/python3.11/dist-packages (from requests) (2.4.0)\n",
            "Requirement already satisfied: certifi>=2017.4.17 in /usr/local/lib/python3.11/dist-packages (from requests) (2025.4.26)\n",
            "Requirement already satisfied: soupsieve>1.2 in /usr/local/lib/python3.11/dist-packages (from beautifulsoup4) (2.7)\n",
            "Requirement already satisfied: typing-extensions>=4.0.0 in /usr/local/lib/python3.11/dist-packages (from beautifulsoup4) (4.14.0)\n",
            "Requirement already satisfied: numpy>=1.23.2 in /usr/local/lib/python3.11/dist-packages (from pandas) (2.0.2)\n",
            "Requirement already satisfied: python-dateutil>=2.8.2 in /usr/local/lib/python3.11/dist-packages (from pandas) (2.9.0.post0)\n",
            "Requirement already satisfied: pytz>=2020.1 in /usr/local/lib/python3.11/dist-packages (from pandas) (2025.2)\n",
            "Requirement already satisfied: tzdata>=2022.7 in /usr/local/lib/python3.11/dist-packages (from pandas) (2025.2)\n",
            "Requirement already satisfied: six>=1.5 in /usr/local/lib/python3.11/dist-packages (from python-dateutil>=2.8.2->pandas) (1.17.0)\n"
          ]
        }
      ],
      "source": [
        "!pip install requests beautifulsoup4 pandas"
      ]
    },
    {
      "cell_type": "markdown",
      "source": [
        "### Imports"
      ],
      "metadata": {
        "id": "hM-WbhP-VWli"
      }
    },
    {
      "cell_type": "code",
      "source": [
        "import requests\n",
        "from bs4 import BeautifulSoup\n",
        "import pandas as pd\n",
        "import re"
      ],
      "metadata": {
        "id": "n4aU9ZCSVdD3"
      },
      "execution_count": 2,
      "outputs": []
    },
    {
      "cell_type": "markdown",
      "source": [
        "### Helper function to clean HTML cell text"
      ],
      "metadata": {
        "id": "0A8peJjyV2mU"
      }
    },
    {
      "cell_type": "code",
      "source": [
        "def clean_text(cell):\n",
        "    txt = cell.get_text(separator=\" \", strip=True)\n",
        "    txt = txt.replace(\"\\xa0\", \" \")\n",
        "    return re.sub(r\"\\s+\", \" \", txt).strip()"
      ],
      "metadata": {
        "id": "5nr5gi6eV-kH"
      },
      "execution_count": 3,
      "outputs": []
    },
    {
      "cell_type": "markdown",
      "source": [
        "Below contain the code related on fetching the page, to finding the table, iterating the rows, building the Dataframes for each column names,Cleaning and Processing and at last saving to CSV"
      ],
      "metadata": {
        "id": "yUh5yBSSWeWG"
      }
    },
    {
      "cell_type": "code",
      "source": [
        "url  = \"https://cbic-gst.gov.in/gst-goods-services-rates.html\"\n",
        "resp = requests.get(url)\n",
        "resp.raise_for_status()\n",
        "soup = BeautifulSoup(resp.text, \"html.parser\")\n",
        "\n",
        "table = soup.find(\"table\", id=\"goods_table\")\n",
        "\n",
        "records = []\n",
        "for tr in table.tbody.find_all(\"tr\"):\n",
        "    tds = tr.find_all(\"td\")\n",
        "    if len(tds) != 8:\n",
        "        continue\n",
        "    vals = [ clean_text(td) for td in tds ]\n",
        "    records.append(vals)\n",
        "\n",
        "cols = [\n",
        "    \"Schedules\",\n",
        "    \"S.No.\",\n",
        "    \"Chapter/Heading/Sub-heading/Tariffitem\",\n",
        "    \"DescriptionofGoods\",\n",
        "    \"CGST(%)\",\n",
        "    \"SGST/UTGST(%)\",\n",
        "    \"IGST(%)\",\n",
        "    \"CompensationCess\"\n",
        "]\n",
        "df = pd.DataFrame(records, columns=cols)\n",
        "\n",
        "def to_float(x):\n",
        "    x = re.sub(r\"[^0-9.]\", \"\", x)\n",
        "    return float(x) if x else None\n",
        "\n",
        "for rate_col in [\"CGST(%)\", \"SGST/UTGST(%)\", \"IGST(%)\"]:\n",
        "    df[rate_col] = df[rate_col].apply(to_float)\n",
        "\n",
        "df.to_csv(\"cbic_gst_goods_rates_exact.csv\", index=False)\n",
        "print(f\"Extracted {len(df)} rows → cbic_gst_goods_rates_exact.csv\")"
      ],
      "metadata": {
        "colab": {
          "base_uri": "https://localhost:8080/"
        },
        "id": "CIYLGKv5XMPY",
        "outputId": "5c55b823-1bdb-4b82-e8d4-f0861a498e69"
      },
      "execution_count": 4,
      "outputs": [
        {
          "output_type": "stream",
          "name": "stdout",
          "text": [
            "Extracted 1850 rows → cbic_gst_goods_rates_exact.csv\n"
          ]
        }
      ]
    }
  ]
}