{
  "nbformat": 4,
  "nbformat_minor": 0,
  "metadata": {
    "colab": {
      "provenance": [],
      "authorship_tag": "ABX9TyMnEJq0lRWmHmKWrMBd3qdE",
      "include_colab_link": true
    },
    "kernelspec": {
      "name": "python3",
      "display_name": "Python 3"
    },
    "language_info": {
      "name": "python"
    }
  },
  "cells": [
    {
      "cell_type": "markdown",
      "metadata": {
        "id": "view-in-github",
        "colab_type": "text"
      },
      "source": [
        "<a href=\"https://colab.research.google.com/github/wardayX/cyhack/blob/main/GST_goods_rates_scrapper.ipynb\" target=\"_parent\"><img src=\"https://colab.research.google.com/assets/colab-badge.svg\" alt=\"Open In Colab\"/></a>"
      ]
    },
    {
      "cell_type": "markdown",
      "source": [
        "# CBIC GST Goods Rates Scraper\n",
        "This notebook scrapes the CGST/SGST/UTGST rates for goods from the official [CBIC GST website](https://cbic-gst.gov.in/gst-goods-services-rates.html) and saves them to a clean CSV file.\n"
      ],
      "metadata": {
        "id": "I8fkVSPMUlol"
      }
    },
    {
      "cell_type": "markdown",
      "source": [
        "# Install dependencies"
      ],
      "metadata": {
        "id": "v_mqEnDrUxG4"
      }
    },
    {
      "cell_type": "code",
      "execution_count": null,
      "metadata": {
        "id": "MoXAZ70KT_wD"
      },
      "outputs": [],
      "source": [
        "!pip install requests beautifulsoup4 pandas"
      ]
    },
    {
      "cell_type": "markdown",
      "source": [
        "### Imports"
      ],
      "metadata": {
        "id": "hM-WbhP-VWli"
      }
    },
    {
      "cell_type": "code",
      "source": [
        "import requests\n",
        "from bs4 import BeautifulSoup\n",
        "import pandas as pd\n",
        "import re"
      ],
      "metadata": {
        "id": "n4aU9ZCSVdD3"
      },
      "execution_count": null,
      "outputs": []
    },
    {
      "cell_type": "markdown",
      "source": [
        "### Helper function to clean HTML cell text"
      ],
      "metadata": {
        "id": "0A8peJjyV2mU"
      }
    },
    {
      "cell_type": "code",
      "source": [
        "def clean_text(cell):\n",
        "    txt = cell.get_text(separator=\" \", strip=True)\n",
        "    txt = txt.replace(\"\\xa0\", \" \")\n",
        "    return re.sub(r\"\\s+\", \" \", txt).strip()"
      ],
      "metadata": {
        "id": "5nr5gi6eV-kH"
      },
      "execution_count": null,
      "outputs": []
    }
  ]
}