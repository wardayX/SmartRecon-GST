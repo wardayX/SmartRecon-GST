{
  "nbformat": 4,
  "nbformat_minor": 0,
  "metadata": {
    "colab": {
      "provenance": [],
      "authorship_tag": "ABX9TyO6G/H7WTScDrk/KmPs/R42",
      "include_colab_link": true
    },
    "kernelspec": {
      "name": "python3",
      "display_name": "Python 3"
    },
    "language_info": {
      "name": "python"
    }
  },
  "cells": [
    {
      "cell_type": "markdown",
      "metadata": {
        "id": "view-in-github",
        "colab_type": "text"
      },
      "source": [
        "<a href=\"https://colab.research.google.com/github/wardayX/cyhack/blob/main/CreationofCSVforGST.ipynb\" target=\"_parent\"><img src=\"https://colab.research.google.com/assets/colab-badge.svg\" alt=\"Open In Colab\"/></a>"
      ]
    },
    {
      "cell_type": "markdown",
      "source": [
        "# CBIC GST Goods Rates Scraper\n",
        "This notebook scrapes the CGST/SGST/UTGST rates for goods from the official [CBIC GST website](https://cbic-gst.gov.in/gst-goods-services-rates.html) and saves them to a clean CSV file.\n"
      ],
      "metadata": {
        "id": "I8fkVSPMUlol"
      }
    },
    {
      "cell_type": "markdown",
      "source": [
        "# Install dependencies"
      ],
      "metadata": {
        "id": "v_mqEnDrUxG4"
      }
    },
    {
      "cell_type": "code",
      "execution_count": null,
      "metadata": {
        "id": "MoXAZ70KT_wD"
      },
      "outputs": [],
      "source": [
        "!pip install requests beautifulsoup4 pandas"
      ]
    }
  ]
}