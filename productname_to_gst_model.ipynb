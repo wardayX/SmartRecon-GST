{
  "nbformat": 4,
  "nbformat_minor": 0,
  "metadata": {
    "colab": {
      "provenance": [],
      "authorship_tag": "ABX9TyOJ+fPyBkqEM25SChxekkdJ",
      "include_colab_link": true
    },
    "kernelspec": {
      "name": "python3",
      "display_name": "Python 3"
    },
    "language_info": {
      "name": "python"
    }
  },
  "cells": [
    {
      "cell_type": "markdown",
      "metadata": {
        "id": "view-in-github",
        "colab_type": "text"
      },
      "source": [
        "<a href=\"https://colab.research.google.com/github/wardayX/cyhack/blob/main/productname_to_gst_model.ipynb\" target=\"_parent\"><img src=\"https://colab.research.google.com/assets/colab-badge.svg\" alt=\"Open In Colab\"/></a>"
      ]
    },
    {
      "cell_type": "markdown",
      "source": [
        "# Setup & Imports  \n",
        "Install and import all required libraries.\n"
      ],
      "metadata": {
        "id": "neL9KG6bcjUj"
      }
    },
    {
      "cell_type": "code",
      "execution_count": null,
      "metadata": {
        "id": "xavitI9Nb0w-"
      },
      "outputs": [],
      "source": [
        "!pip install pandas pdfplumber fuzzywuzzy python-Levenshtein sentence-transformers\n",
        "\n",
        "import pandas as pd\n",
        "import pdfplumber\n",
        "from fuzzywuzzy import process as fuzzy_process\n",
        "from sentence_transformers import SentenceTransformer, util\n",
        "import torch\n",
        "import re\n",
        "from google.colab import files\n",
        "import io\n",
        "\n",
        "print(\"Libraries installed and imported.\")"
      ]
    },
    {
      "cell_type": "markdown",
      "source": [],
      "metadata": {
        "id": "ODQTkqAQcrkX"
      }
    }
  ]
}