{
  "nbformat": 4,
  "nbformat_minor": 0,
  "metadata": {
    "colab": {
      "provenance": [],
      "authorship_tag": "ABX9TyPsHw10yyoRo/62Ni3ZeC5S",
      "include_colab_link": true
    },
    "kernelspec": {
      "name": "python3",
      "display_name": "Python 3"
    },
    "language_info": {
      "name": "python"
    }
  },
  "cells": [
    {
      "cell_type": "markdown",
      "metadata": {
        "id": "view-in-github",
        "colab_type": "text"
      },
      "source": [
        "<a href=\"https://colab.research.google.com/github/wardayX/cyhack/blob/main/productname_to_gst_model.ipynb\" target=\"_parent\"><img src=\"https://colab.research.google.com/assets/colab-badge.svg\" alt=\"Open In Colab\"/></a>"
      ]
    },
    {
      "cell_type": "markdown",
      "source": [
        "# Setup & Imports  \n",
        "Install and import all required libraries.\n"
      ],
      "metadata": {
        "id": "neL9KG6bcjUj"
      }
    },
    {
      "cell_type": "code",
      "execution_count": null,
      "metadata": {
        "id": "xavitI9Nb0w-"
      },
      "outputs": [],
      "source": [
        "!pip install pandas pdfplumber fuzzywuzzy python-Levenshtein sentence-transformers\n",
        "\n",
        "import pandas as pd\n",
        "import pdfplumber\n",
        "from fuzzywuzzy import process as fuzzy_process\n",
        "from sentence_transformers import SentenceTransformer, util\n",
        "import torch\n",
        "import re\n",
        "from google.colab import files\n",
        "import io\n",
        "\n",
        "print(\"Libraries installed and imported.\")"
      ]
    },
    {
      "cell_type": "markdown",
      "source": [
        "## File Upload Functions  \n",
        "Define helper functions to upload the HSN PDF and GST CSV."
      ],
      "metadata": {
        "id": "ODQTkqAQcrkX"
      }
    },
    {
      "cell_type": "code",
      "source": [
        "def upload_hsn_pdf():\n",
        "    print(\"Please upload your HSN Code PDF (SL NO, HS CODE, DESCRIPTION columns).\")\n",
        "    uploaded = files.upload()\n",
        "    if not uploaded:\n",
        "        print(\"No file uploaded.\")\n",
        "        return None, None\n",
        "    file_name = list(uploaded.keys())[0]\n",
        "    print(f\"Uploaded '{file_name}'\")\n",
        "    return file_name, uploaded[file_name]\n",
        "\n",
        "def upload_gst_csv():\n",
        "    print(\"\\nPlease upload your GST Rates CSV.\")\n",
        "    uploaded = files.upload()\n",
        "    if not uploaded:\n",
        "        print(\"No file uploaded.\")\n",
        "        return None, None\n",
        "    file_name = list(uploaded.keys())[0]\n",
        "    print(f\"Uploaded '{file_name}'\")\n",
        "    return file_name, uploaded[file_name]\n",
        "\n",
        "print(\"File upload functions defined.\")"
      ],
      "metadata": {
        "id": "itfhvLvwdVIV"
      },
      "execution_count": null,
      "outputs": []
    },
    {
      "cell_type": "markdown",
      "source": [
        "## Parse HSN PDF with Aggregate Hierarchical Descriptions\n",
        "Extract HS codes and descriptions from the uploaded PDF with enriching parent HSN codes by concatenating child descriptions.\n"
      ],
      "metadata": {
        "id": "IGlTIflVdWTl"
      }
    },
    {
      "cell_type": "code",
      "source": [
        "def parse_hsn_pdf(pdf_content):\n",
        "    data = []\n",
        "    try:\n",
        "        with pdfplumber.open(io.BytesIO(pdf_content)) as pdf:\n",
        "            for i, page in enumerate(pdf.pages):\n",
        "                print(f\"Processing PDF page {i+1}/{len(pdf.pages)}...\")\n",
        "                tables = page.extract_tables()\n",
        "                if tables:\n",
        "                    for table in tables:\n",
        "                        header = table[0]\n",
        "                        if header and 'HS CODE' in str(header).upper() and 'DESCRIPTION' in str(header).upper():\n",
        "                            data_rows = table[1:]\n",
        "                        else:\n",
        "                            data_rows = table\n",
        "\n",
        "                        for row in data_rows:\n",
        "                            if len(row) >= 3:\n",
        "                                sl_no, hs_code, description = row[0], row[1], row[2]\n",
        "                                hs_code = str(hs_code).replace('\\n', ' ').strip() if hs_code else None\n",
        "                                description = str(description).replace('\\n', ' ').strip() if description else None\n",
        "                                if hs_code and description:\n",
        "                                    data.append({'HS_Code_PDF': hs_code, 'Description_PDF': description})\n",
        "                    continue\n",
        "\n",
        "                text = page.extract_text()\n",
        "                if text:\n",
        "                    lines = text.split('\\n')\n",
        "                    for line in lines:\n",
        "                        match_hs = re.search(r'^\\s*(\\d{4,8})\\s+(.+)', line)\n",
        "                        if match_hs:\n",
        "                            hs_code = match_hs.group(1).strip()\n",
        "                            description = match_hs.group(2).strip()\n",
        "                            description = re.sub(r'\\s{2,}', ' ', description)\n",
        "                            if hs_code and description:\n",
        "                                data.append({'HS_Code_PDF': hs_code, 'Description_PDF': description})\n",
        "                        else:\n",
        "                            print(f\"Could not parse line: {line}\")\n",
        "\n",
        "\n",
        "        if not data:\n",
        "            print(\"Warning: No data extracted from PDF. PDF parsing might need custom logic for your file format.\")\n",
        "            print(\"Consider using page.extract_text() and custom regex if tables are not well-structured.\")\n",
        "            return pd.DataFrame(columns=['HS_Code_PDF', 'Description_PDF'])\n",
        "\n",
        "        df_hsn = pd.DataFrame(data)\n",
        "        df_hsn['HS_Code_PDF'] = df_hsn['HS_Code_PDF'].astype(str).str.replace(r'\\W+', '', regex=True).str.strip().str.lower()\n",
        "        df_hsn.dropna(subset=['HS_Code_PDF'], inplace=True)\n",
        "        df_hsn.drop_duplicates(subset=['HS_Code_PDF'], keep='first', inplace=True)\n",
        "        print(f\"Extracted {len(df_hsn)} unique HSN entries from PDF.\")\n",
        "        return df_hsn\n",
        "    except Exception as e:\n",
        "        print(f\"Error parsing PDF: {e}\")\n",
        "        print(\"Please ensure the PDF is not scanned (image-based) and has extractable text.\")\n",
        "        return pd.DataFrame(columns=['HS_Code_PDF', 'Description_PDF'])\n",
        "\n",
        "print(\"PDF parsing function defined.\")\n",
        "\n",
        "def aggregate_hsn_descriptions(df_hsn_input):\n",
        "    if df_hsn_input.empty:\n",
        "        print(\"HSN PDF data is empty. Skipping aggregation.\")\n",
        "        return df_hsn_input.copy()\n",
        "\n",
        "    print(\"\\nAggregating hierarchical HSN descriptions from PDF data...\")\n",
        "    df_hsn = df_hsn_input.copy()\n",
        "    df_hsn['HS_Code_PDF'] = df_hsn['HS_Code_PDF'].astype(str)\n",
        "    df_hsn.sort_values(by='HS_Code_PDF', inplace=True)\n",
        "    df_hsn.reset_index(drop=True, inplace=True)\n",
        "\n",
        "    aggregated_descriptions = {}\n",
        "    unique_hs_codes = sorted(df_hsn['HS_Code_PDF'].unique())\n",
        "\n",
        "    for parent_hs in unique_hs_codes:\n",
        "        parent_row = df_hsn[df_hsn['HS_Code_PDF'] == parent_hs]\n",
        "        if parent_row.empty or pd.isna(parent_row['Description_PDF'].iloc[0]):\n",
        "            continue\n",
        "\n",
        "        current_descriptions = [parent_row['Description_PDF'].iloc[0]]\n",
        "        for child_hs in unique_hs_codes:\n",
        "            if child_hs.startswith(parent_hs) and len(child_hs) > len(parent_hs):\n",
        "                child_row = df_hsn[df_hsn['HS_Code_PDF'] == child_hs]\n",
        "                if not child_row.empty and pd.notna(child_row['Description_PDF'].iloc[0]):\n",
        "                    current_descriptions.append(child_row['Description_PDF'].iloc[0])\n",
        "        aggregated_descriptions[parent_hs] = \". \".join(list(dict.fromkeys(current_descriptions)))\n",
        "\n",
        "    df_hsn['Aggregated_Description_PDF'] = df_hsn['HS_Code_PDF'].map(aggregated_descriptions)\n",
        "    df_hsn['Aggregated_Description_PDF'].fillna(df_hsn['Description_PDF'], inplace=True)\n",
        "\n",
        "    print(\"HSN description aggregation complete.\")\n",
        "    return df_hsn"
      ],
      "metadata": {
        "id": "7rLGOD5mdaBF"
      },
      "execution_count": null,
      "outputs": []
    },
    {
      "cell_type": "markdown",
      "source": [
        "## Parse GST Rates CSV  \n",
        "Read the GST CSV with fallback encodings, clean and normalize columns.\n"
      ],
      "metadata": {
        "id": "0lmsqdLues9K"
      }
    },
    {
      "cell_type": "code",
      "source": [
        "def parse_gst_csv(csv_content):\n",
        "    df_gst = None\n",
        "    encodings_to_try = ['utf-8', 'latin1', 'cp1252', 'iso-8859-1']\n",
        "\n",
        "    for encoding in encodings_to_try:\n",
        "        try:\n",
        "            csv_file_like_object = io.BytesIO(csv_content)\n",
        "            df_gst = pd.read_csv(csv_file_like_object, encoding=encoding)\n",
        "            print(f\"GST CSV loaded successfully with encoding: {encoding}\")\n",
        "            break\n",
        "        except UnicodeDecodeError:\n",
        "            print(f\"Failed to decode CSV with encoding: {encoding}. Trying next...\")\n",
        "        except Exception as e:\n",
        "            print(f\"Error reading CSV with encoding {encoding}: {e}\")\n",
        "            df_gst = None\n",
        "\n",
        "    if df_gst is None:\n",
        "        print(\"Error: Could not read or decode the GST CSV file with common encodings.\")\n",
        "        print(\"Please ensure your CSV file is saved in a compatible format (e.g., UTF-8, Latin-1, CP1252) or specify the correct encoding.\")\n",
        "        return pd.DataFrame()\n",
        "    print(\"GST CSV loaded. Original columns found:\", df_gst.columns.tolist())\n",
        "\n",
        "    column_mapping = {\n",
        "        'Chapter/Heading/Sub-heading/Tariffitem': 'HS_Code_GST',\n",
        "        'DescriptionofGoods': 'Description_GST',\n",
        "        'CGST(%)': 'CGST_Rate',\n",
        "        'SGST/UTGST(%)': 'SGST_Rate',\n",
        "        'IGST(%)': 'IGST_Rate',\n",
        "        'CompensationCess': 'Compensation_Cess_Raw'\n",
        "    }\n",
        "\n",
        "    actual_mapping_to_rename = {}\n",
        "    for csv_header_pattern, internal_name in column_mapping.items():\n",
        "        for actual_csv_column_name in df_gst.columns:\n",
        "            if csv_header_pattern.lower().strip() == actual_csv_column_name.lower().strip():\n",
        "                actual_mapping_to_rename[actual_csv_column_name] = internal_name\n",
        "                break\n",
        "\n",
        "    if actual_mapping_to_rename:\n",
        "        df_gst.rename(columns=actual_mapping_to_rename, inplace=True)\n",
        "        print(\"Columns after initial renaming attempt:\", df_gst.columns.tolist())\n",
        "    else:\n",
        "        print(\"No column renaming mappings were applied based on column_mapping.\")\n",
        "\n",
        "    required_internal_cols = ['HS_Code_GST', 'Description_GST', 'CGST_Rate', 'SGST_Rate', 'IGST_Rate']\n",
        "\n",
        "    if 'Compensation_Cess_Raw' not in df_gst.columns:\n",
        "        found_cess_col = None\n",
        "        for col_name in df_gst.columns:\n",
        "            if \"compensationcess\" == col_name.lower().strip() and col_name not in actual_mapping_to_rename.values():\n",
        "                found_cess_col = col_name\n",
        "                break\n",
        "            elif \"cess\" in col_name.lower() and \"compensation\" in col_name.lower() and col_name not in actual_mapping_to_rename.values():\n",
        "                found_cess_col = col_name\n",
        "                break\n",
        "        if found_cess_col:\n",
        "            df_gst.rename(columns={found_cess_col: 'Compensation_Cess_Raw'}, inplace=True)\n",
        "            print(f\"Renamed '{found_cess_col}' to 'Compensation_Cess_Raw'.\")\n",
        "        else:\n",
        "            print(\"Warning: 'Compensation_Cess_Raw' (or a mappable equivalent) not found. Assuming no compensation cess for now.\")\n",
        "            df_gst['Compensation_Cess_Raw'] = \"Nil\"\n",
        "\n",
        "    required_internal_cols.append('Compensation_Cess_Raw')\n",
        "\n",
        "    missing_cols = [col for col in required_internal_cols if col not in df_gst.columns]\n",
        "    if missing_cols:\n",
        "        print(f\"Error: Missing expected internal columns after all renaming attempts: {missing_cols}\")\n",
        "        print(f\"Current available columns in DataFrame: {df_gst.columns.tolist()}\")\n",
        "        print(\"Please ensure your `column_mapping` in Cell 4 correctly maps your CSV headers to the expected internal names.\")\n",
        "        return pd.DataFrame()\n",
        "\n",
        "    df_gst = df_gst[required_internal_cols].copy()\n",
        "    df_gst['HS_Code_GST'] = df_gst['HS_Code_GST'].astype(str).str.replace(r'\\W+', '', regex=True).str.strip().str.lower()\n",
        "    rate_cols_internal = ['CGST_Rate', 'SGST_Rate', 'IGST_Rate']\n",
        "    for col in rate_cols_internal:\n",
        "        df_gst[col] = df_gst[col].astype(str).str.replace('%', '').str.strip()\n",
        "        df_gst[col] = pd.to_numeric(df_gst[col], errors='coerce').fillna(0)\n",
        "\n",
        "    def parse_cess(value):\n",
        "        value_str = str(value).lower().strip()\n",
        "        if not value_str or value_str in ['no', 'false', 'nil', 'exempt', 'exempted', '0', '0%', '0.0', '0.0%','-']:\n",
        "            return 0.0, False\n",
        "        match_rate = re.search(r'(\\d+\\.?\\d*)', value_str)\n",
        "        if match_rate:\n",
        "            try:\n",
        "                rate = float(match_rate.group(1))\n",
        "                return rate, True\n",
        "            except ValueError:\n",
        "                pass\n",
        "        if pd.notna(value) and value_str not in ['no', 'false', 'nil', 'exempt', 'exempted', '0', '0%', '0.0', '0.0%','-']:\n",
        "            return 0.0, True\n",
        "        return 0.0, False\n",
        "\n",
        "    cess_parsed = df_gst['Compensation_Cess_Raw'].apply(parse_cess)\n",
        "    df_gst['Compensation_Cess_Rate'] = cess_parsed.apply(lambda x: x[0])\n",
        "    df_gst['Is_Compensation_Cess'] = cess_parsed.apply(lambda x: x[1])\n",
        "    df_gst.drop(columns=['Compensation_Cess_Raw'], inplace=True)\n",
        "\n",
        "    df_gst['Is_Exempted'] = (\n",
        "        (df_gst['CGST_Rate'] == 0) &\n",
        "        (df_gst['SGST_Rate'] == 0) &\n",
        "        (df_gst['IGST_Rate'] == 0) &\n",
        "        ((~df_gst['Is_Compensation_Cess']) | (df_gst['Compensation_Cess_Rate'] == 0))\n",
        "    )\n",
        "\n",
        "    df_gst.dropna(subset=['HS_Code_GST'], inplace=True)\n",
        "    df_gst.drop_duplicates(subset=['HS_Code_GST'], keep='first', inplace=True)\n",
        "    print(f\"Processed {len(df_gst)} unique HSN entries from GST CSV.\")\n",
        "    print(\"Final columns in GST DataFrame after processing:\", df_gst.columns.tolist())\n",
        "    return df_gst\n",
        "\n",
        "print(\"GST CSV parsing function (CORRECTED RENAMING LOGIC + ENCODING HANDLING) defined.\")"
      ],
      "metadata": {
        "colab": {
          "base_uri": "https://localhost:8080/"
        },
        "id": "7-mub0XAessp",
        "outputId": "57d3191e-a12a-44ca-8fa8-a48eed9796ae"
      },
      "execution_count": 1,
      "outputs": [
        {
          "output_type": "stream",
          "name": "stdout",
          "text": [
            "GST CSV parsing function (CORRECTED RENAMING LOGIC + ENCODING HANDLING) defined.\n"
          ]
        }
      ]
    },
    {
      "cell_type": "markdown",
      "source": [
        "## Load & Parse Inputs  \n",
        "1. Upload HSN PDF → parse → aggregate  \n",
        "2. Upload GST CSV → parse  \n"
      ],
      "metadata": {
        "id": "TTcFN39PfP27"
      }
    },
    {
      "cell_type": "code",
      "source": [
        "hsn_pdf_name, hsn_pdf_content = upload_hsn_pdf()\n",
        "df_hsn_pdf = pd.DataFrame()\n",
        "if hsn_pdf_content:\n",
        "    df_hsn_pdf = parse_hsn_pdf(hsn_pdf_content)\n",
        "    if not df_hsn_pdf.empty:\n",
        "        print(\"\\n--- Parsed HSN PDF Data (Sample BEFORE Aggregation) ---\")\n",
        "        print(df_hsn_pdf.head())\n",
        "        df_hsn_pdf_aggregated = aggregate_hsn_descriptions(df_hsn_pdf)\n",
        "    else:\n",
        "        df_hsn_pdf_aggregated = pd.DataFrame()\n",
        "else:\n",
        "    df_hsn_pdf_aggregated = pd.DataFrame()\n",
        "    print(\"\\nHSN PDF content not available. Skipping HSN PDF processing and aggregation.\")\n",
        "\n",
        "gst_csv_name, gst_csv_content = upload_gst_csv()\n",
        "df_gst_rates = pd.DataFrame()\n",
        "if gst_csv_content:\n",
        "    df_gst_rates = parse_gst_csv(gst_csv_content)\n",
        "\n",
        "gst_csv_name, gst_csv_content = upload_gst_csv()\n",
        "df_gst_rates = pd.DataFrame()\n",
        "if gst_csv_content:\n",
        "    df_gst_rates = parse_gst_csv(gst_csv_content)\n",
        "    if not df_gst_rates.empty:\n",
        "        print(\"\\n--- Parsed GST Rates CSV Data (Sample) ---\")\n",
        "        print(df_gst_rates.head())\n",
        "        print(\"\\nGST Data Columns:\", df_gst_rates.columns)\n",
        "\n",
        "if df_hsn_pdf.empty and df_gst_rates.empty:\n",
        "    print(\"\\nERROR: Neither HSN PDF nor GST CSV data could be loaded. Cannot proceed.\")\n",
        "elif df_gst_rates.empty:\n",
        "    print(\"\\nERROR: GST CSV data could not be loaded. Tax rates are essential. Cannot proceed.\")"
      ],
      "metadata": {
        "id": "tYSZS_Xgfgdc"
      },
      "execution_count": null,
      "outputs": []
    },
    {
      "cell_type": "markdown",
      "source": [],
      "metadata": {
        "id": "4RiR9BC-fvqO"
      }
    }
  ]
}